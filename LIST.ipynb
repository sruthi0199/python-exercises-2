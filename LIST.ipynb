{
 "cells": [
  {
   "cell_type": "code",
   "execution_count": 3,
   "id": "angry-athletics",
   "metadata": {},
   "outputs": [
    {
     "name": "stdout",
     "output_type": "stream",
     "text": [
      "Length of the list: 7\n",
      "Reversing the list without using built-in function:\n",
      "gautham (1, 2, 3) 21 78.34 True sachin  \n",
      "Reversing the list using built-in function:\n",
      "['gautham', (1, 2, 3), 21, 78.34, True, 'sachin', 22]\n",
      "After adding an element at the end of the list:\n",
      "[22, 'sachin', True, 78.34, 21, (1, 2, 3), 'gautham', 'abc']\n",
      "After inserting an element at 1st index:\n",
      "[22, 24.5, 'sachin', True, 78.34, 21, (1, 2, 3), 'gautham', 'abc']\n",
      "Updating an element at 4th index: \n",
      "[22, 24.5, 'sachin', True, 90, 21, (1, 2, 3), 'gautham', 'abc']\n"
     ]
    }
   ],
   "source": [
    "'''1.Create a list with all types [ex: li = [22,'sachin',True,78.34,21,(1,2,3),'gautham']]\n",
    "\n",
    "Find length of the list\n",
    "Reverse the list items with/without using the in built function\n",
    "Adding the element at the end of the List\n",
    "Inserting the element in the list\n",
    "Updating the list element '''\n",
    "lis=[22,'sachin',True,78.34,21,(1,2,3),'gautham']\n",
    "print(\"Length of the list:\",len(lis))\n",
    "print(\"Reversing the list without using built-in function:\")\n",
    "for i in range(len(lis)-1,0,-1):\n",
    "    print(lis[i],end=\" \")\n",
    "print(\" \")\n",
    "print(\"Reversing the list using built-in function:\")\n",
    "lis1=lis[::-1]\n",
    "print(lis1)\n",
    "lis.append('abc')\n",
    "print(\"After adding an element at the end of the list:\")\n",
    "print(lis)\n",
    "print(\"After inserting an element at 1st index:\")\n",
    "lis.insert(1,24.5)\n",
    "print(lis)\n",
    "print(\"Updating an element at 4th index: \")\n",
    "lis[4]=90\n",
    "print(lis)"
   ]
  },
  {
   "cell_type": "code",
   "execution_count": 6,
   "id": "common-chemical",
   "metadata": {},
   "outputs": [
    {
     "name": "stdout",
     "output_type": "stream",
     "text": [
      "Differenc between  90  and  2  is:  88\n"
     ]
    }
   ],
   "source": [
    "#2. Print the Difference of max and min in the list, li = [10,5,2,90,70,50]\n",
    "li=[10,5,2,90,70,50]\n",
    "a=max(li)\n",
    "b=min(li)\n",
    "print(\"Differenc between \",a,\" and \",b,\" is: \",a-b)"
   ]
  },
  {
   "cell_type": "code",
   "execution_count": 2,
   "id": "substantial-interim",
   "metadata": {},
   "outputs": [
    {
     "name": "stdout",
     "output_type": "stream",
     "text": [
      "liril\n",
      "mom\n"
     ]
    }
   ],
   "source": [
    "#3.Remove the digits and if reversed item is same as item print it : liril, li = ['sury2a', 'li3ril', 'kreet7hi']\n",
    "li=['sury2a','li3ril','kreet7hi','mo3m']\n",
    "for name in li:\n",
    "    res=''.join([i for i in name if not i.isdigit()])\n",
    "    if(res==(res[::-1])):\n",
    "        print(res)"
   ]
  },
  {
   "cell_type": "code",
   "execution_count": 5,
   "id": "herbal-cache",
   "metadata": {},
   "outputs": [
    {
     "name": "stdout",
     "output_type": "stream",
     "text": [
      "['mybook', 'herpen', 'hisbag']\n"
     ]
    }
   ],
   "source": [
    "#4.Concatenate two lists index wise [my, her], [Book, pen],Output [myBook, herpen]\n",
    "l1=['my','her','his']\n",
    "l2=['book','pen','bag']\n",
    "\n",
    "for i in range(len(l1)):\n",
    "    s1=l1[i]\n",
    "    s2=l2[i]\n",
    "    s3=s1+s2\n",
    "    l1[i]=s3\n",
    "print(l1)\n"
   ]
  },
  {
   "cell_type": "code",
   "execution_count": 1,
   "id": "nuclear-haiti",
   "metadata": {},
   "outputs": [
    {
     "name": "stdout",
     "output_type": "stream",
     "text": [
      "abc def "
     ]
    }
   ],
   "source": [
    "#5.Remove empty strings from the list of strings\n",
    "l1=['','','abc','def']\n",
    "for i in l1:\n",
    "    if(i!=''):\n",
    "        print(i,end=\" \")"
   ]
  },
  {
   "cell_type": "code",
   "execution_count": 8,
   "id": "statutory-sailing",
   "metadata": {},
   "outputs": [
    {
     "name": "stdout",
     "output_type": "stream",
     "text": [
      "Enter a number:20\n",
      "After replacing 20  with 200 only at the first occurence:\n",
      "[200, 30, 40, 50, 20]\n"
     ]
    }
   ],
   "source": [
    "#6.Given a Python list, find value 20 in the list, and if it is present, replace it with 200. Only update the first occurrence of a value\n",
    "li=[20,30,40,50,20]\n",
    "count=0\n",
    "num=int(input(\"Enter a number:\"))\n",
    "for i in range(len(li)):\n",
    "    if(li[i]==num):\n",
    "        li[i]=200\n",
    "        break\n",
    "    else:\n",
    "        count=count+1\n",
    "if(count==len(li)):\n",
    "    print(\"There is no occurence of\",num)\n",
    "else:\n",
    "    print(\"After replacing\",num,\" with 200 only at the first occurence:\")\n",
    "    print(li)"
   ]
  },
  {
   "cell_type": "code",
   "execution_count": 10,
   "id": "oriental-creek",
   "metadata": {},
   "outputs": [
    {
     "name": "stdout",
     "output_type": "stream",
     "text": [
      "Enter a number to delete:10\n",
      "Remove:\n",
      "[20, 30, 40, 50, 60]\n",
      "Pop:\n",
      "Enter an index at which an item has to be deleted:2\n",
      "[20, 30, 50, 60]\n",
      "Clear:\n",
      "[]\n",
      "Delete:\n",
      "Enter an index at which an item has to be deleted:1\n",
      "[10, 30, 40, 50, 60]\n",
      "Deleting entire list:\n",
      "List is deleted\n"
     ]
    }
   ],
   "source": [
    "#7.Example for delete, remove, pop, clear: pass and fail cases\n",
    "li=[10,20,30,40,50,60]\n",
    "num=int(input(\"Enter a number to delete:\"))\n",
    "print(\"Remove:\")\n",
    "if(num in li):\n",
    "    li.remove(num)\n",
    "    print(li)\n",
    "else:\n",
    "    print(num,\"not present in the list\")\n",
    "print(\"Pop:\")\n",
    "index=int(input(\"Enter an index at which an item has to be deleted:\"))\n",
    "if(index<len(li) and index>=(0-(len(li)))):\n",
    "    li.pop(index)\n",
    "    print(li)\n",
    "else:\n",
    "    print(\"Index out of range\")\n",
    "print(\"Clear:\")\n",
    "li.clear()\n",
    "print(li)\n",
    "li=[10,20,30,40,50,60]\n",
    "print(\"Delete:\")\n",
    "index=int(input(\"Enter an index at which an item has to be deleted:\"))\n",
    "if(index<len(li) and index>=(0-(len(li)))):\n",
    "    del li[index]\n",
    "    print(li)\n",
    "else:\n",
    "    print(\"Index out of range\")\n",
    "print(\"Deleting entire list:\")\n",
    "del li\n",
    "try:\n",
    "    print(li)\n",
    "    print(\"List is not deleted\")\n",
    "except NameError:\n",
    "    print(\"List is deleted\")"
   ]
  },
  {
   "cell_type": "code",
   "execution_count": 11,
   "id": "fifth-dylan",
   "metadata": {},
   "outputs": [
    {
     "name": "stdout",
     "output_type": "stream",
     "text": [
      "Sorting list in ascending order:\n",
      "['Abc', 'Bca', 'cab', 'cba']\n",
      "Sorting list in descending order\n",
      "['cba', 'cab', 'Bca', 'Abc']\n"
     ]
    }
   ],
   "source": [
    "#8.Sort a list using key in ascending and descending\n",
    "li=['Abc','cba','Bca','cab']\n",
    "print(\"Sorting list in ascending order:\")\n",
    "li.sort(key=str.lower)\n",
    "print(li)\n",
    "print(\"Sorting list in descending order\")\n",
    "li.sort(key=str.lower,reverse=True)\n",
    "print(li)"
   ]
  },
  {
   "cell_type": "code",
   "execution_count": null,
   "id": "inappropriate-paragraph",
   "metadata": {},
   "outputs": [
    {
     "name": "stdout",
     "output_type": "stream",
     "text": [
      "Enter an item to add into list:1\n",
      "['1']\n",
      "Enter an item to add into list:22.5\n",
      "['1', '22.5']\n",
      "Enter an item to add into list:a\n",
      "['1', '22.5', 'a']\n",
      "Enter an item to add into list:b\n",
      "['1', '22.5', 'a', 'b']\n",
      "Enter an item to add into list:(a,b,c)\n",
      "['1', '22.5', 'a', 'b', '(a,b,c)']\n"
     ]
    }
   ],
   "source": [
    "#9.To create a list with infinite elements getting inputs from user\n",
    "lis=[]\n",
    "while(True):\n",
    "    k=input(\"Enter an item to add into list:\")\n",
    "    lis.append(k)\n",
    "    print(lis)"
   ]
  }
 ],
 "metadata": {
  "kernelspec": {
   "display_name": "Python 3",
   "language": "python",
   "name": "python3"
  },
  "language_info": {
   "codemirror_mode": {
    "name": "ipython",
    "version": 3
   },
   "file_extension": ".py",
   "mimetype": "text/x-python",
   "name": "python",
   "nbconvert_exporter": "python",
   "pygments_lexer": "ipython3",
   "version": "3.6.13"
  }
 },
 "nbformat": 4,
 "nbformat_minor": 5
}
