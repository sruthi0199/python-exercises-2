{
 "cells": [
  {
   "cell_type": "code",
   "execution_count": 1,
   "id": "local-thickness",
   "metadata": {},
   "outputs": [
    {
     "name": "stdout",
     "output_type": "stream",
     "text": [
      "Length of the dictonary: 6\n",
      "Keys:\n",
      "103 104 102 105 101 106 \n",
      "Values:\n",
      "ganesh surya satya pavan gautham advik  \n",
      "Enter an id who name has to be modified:101\n",
      "Enter the name to be updated:gautami\n",
      "{103: 'ganesh', 104: 'surya', 102: 'satya', 105: 'pavan', 101: 'gautami', 106: 'advik'}\n",
      "Pop an element from the dictionary: \n",
      "Enter  a key to be deleted:103\n",
      "{104: 'surya', 102: 'satya', 105: 'pavan', 101: 'gautami', 106: 'advik'}\n",
      "Adding an item into dictionary:\n",
      "{104: 'surya', 102: 'satya', 105: 'pavan', 101: 'gautami', 106: 'advik', 107: 'sunitha'}\n",
      "Names starting with su\n",
      "104 surya\n",
      "107 sunitha\n"
     ]
    }
   ],
   "source": [
    "'''\n",
    "1. Create a dictionary, dic = {103:'ganesh',104:'surya',102:'satya',105:'pavan', 101:'gautham', 106:'advik'}\n",
    "\n",
    "1) Print length, keys and values of the dictionary\n",
    "\n",
    "2) Updating the value of an elements [ Ex: 'pavan' to 'pavan kalyan' and 'gautham' to 'gauthami']\n",
    "\n",
    "3) Pop an element from the dictionary and then print the dictionary\n",
    "\n",
    "4) Add a key, value to a dictionary.\n",
    "\n",
    "Print the names starting with 'su', dic = {103:'ganesh',104:'surya',102:'satya',105:'pavan', 101:'gautham', 106:'suresh'}'''\n",
    "d1={103:'ganesh',\n",
    "    104:'surya',\n",
    "    102:'satya',\n",
    "    105:'pavan',\n",
    "    101:'gautham',\n",
    "    106:'advik'}\n",
    "print(\"Length of the dictonary:\",len(d1))\n",
    "print(\"Keys:\")\n",
    "for i in d1.keys():\n",
    "    print(i,end=\" \")\n",
    "print(\"\")\n",
    "print(\"Values:\")\n",
    "for i in d1.values():\n",
    "    print(i,end=\" \")\n",
    "print(\" \")\n",
    "id=int(input(\"Enter an id who name has to be modified:\"))\n",
    "if(id in d1):\n",
    "    name=input(\"Enter the name to be updated:\")\n",
    "    d1[id]=name\n",
    "    print(d1)\n",
    "else:\n",
    "    print(\"ID not found\")\n",
    "print(\"Pop an element from the dictionary: \")\n",
    "key=int(input(\"Enter  a key to be deleted:\"))\n",
    "if(key in d1.keys()):\n",
    "    d1.pop(key)\n",
    "    print(d1)\n",
    "else:\n",
    "    print(\"Key not found\")\n",
    "print(\"Adding an item into dictionary:\")\n",
    "d1[107]='sunitha'\n",
    "print(d1)\n",
    "print(\"Names starting with su\")\n",
    "for i,j in d1.items():\n",
    "    if(j.startswith('su')):\n",
    "        print(i,j)"
   ]
  },
  {
   "cell_type": "code",
   "execution_count": 3,
   "id": "medium-keyboard",
   "metadata": {},
   "outputs": [
    {
     "name": "stdout",
     "output_type": "stream",
     "text": [
      "101 -- satya -- [37, 53, 55] --145 -- 48 --G3\n",
      "102 -- preeti -- [75, 85, 95] --255 -- 85 --G1\n",
      "103 -- eswar -- [55, 65, 69] --189 -- 63 --G1\n"
     ]
    }
   ],
   "source": [
    "'''2. Take two dictionaries and print marks, total marks, avg and grade with one having id's and names and another having id's and marks\n",
    "\n",
    "[dic1 = {101:'satya',102:'preethi', 103:'eswar'}\n",
    "\n",
    "dic2= {101:[37,53,55], 102:[75,85,95], 103:[55,65,59]}\n",
    "\n",
    "avg >=60 G1\n",
    "\n",
    "avg from 50 to 60 G2\n",
    "\n",
    "avg from 35 to 50 G3\n",
    "\n",
    "avg <35 Failed]\n",
    "\n",
    "Sample output: 101 -- satya -- [37, 53, 55] -- 145 -- 48 -- Thrid ( Can vary, this is just for reference)'''\n",
    "d1={101:'satya',\n",
    "    102:'preeti',\n",
    "    103:'eswar'}\n",
    "d2={101:[37,53,55],\n",
    "    102:[75,85,95],\n",
    "    103:[55,65,69]\n",
    "}\n",
    "for id,marks in d2.items():\n",
    "    print(id,\"--\",d1[id],\"--\",marks,\"--\",end=\"\")\n",
    "    sum=0\n",
    "    for i in marks:\n",
    "        sum=sum+i\n",
    "    avg=sum//len(marks)\n",
    "    print(sum,\"--\",avg,\"--\",end=\"\")\n",
    "    if(avg>=60):\n",
    "        print(\"G1\")\n",
    "    elif(avg>=50 and avg<60):\n",
    "        print(\"G2\")\n",
    "    elif(avg>=35 and avg<50):\n",
    "        print(\"G3\")\n",
    "    else:\n",
    "        print(\"Failed\")"
   ]
  },
  {
   "cell_type": "code",
   "execution_count": 4,
   "id": "executive-program",
   "metadata": {},
   "outputs": [
    {
     "name": "stdout",
     "output_type": "stream",
     "text": [
      "Enter the key to be removed:101\n",
      "{102: 'preeti', 103: 'eswar'}\n",
      "POP ITEM:\n",
      "{102: 'preeti'}\n",
      "Delete\n",
      "Enter the key to be removed102\n",
      "{}\n",
      "CLEAR\n",
      "{}\n",
      "Delete the entire dictionary:\n",
      "Dictionary has been deleted\n"
     ]
    }
   ],
   "source": [
    "#3.Delete and remove,clear method examples of elements of dictionary\n",
    "d1={101:'satya',\n",
    "    102:'preeti',\n",
    "    103:'eswar'}\n",
    "key=int(input(\"Enter the key to be removed:\"))\n",
    "if(key in d1.keys()):\n",
    "    d1.pop(key)\n",
    "    print(d1)\n",
    "else:\n",
    "    print(\"Key not found\")\n",
    "print(\"POP ITEM:\")\n",
    "if(len(d1)==0):\n",
    "    print(\"No item to pop\")\n",
    "else:\n",
    "    d1.popitem()\n",
    "    print(d1)\n",
    "print(\"Delete\")\n",
    "key=int(input(\"Enter the key to be removed\"))\n",
    "if(key in d1.keys()):\n",
    "    del d1[key]\n",
    "    print(d1)\n",
    "else:\n",
    "    print(\"Key not found\")\n",
    "print(\"CLEAR\")\n",
    "d1.clear()\n",
    "print(d1)\n",
    "print(\"Delete the entire dictionary:\")\n",
    "del d1\n",
    "try:\n",
    "    print(d1)\n",
    "except NameError:\n",
    "    print(\"Dictionary has been deleted\")\n"
   ]
  },
  {
   "cell_type": "code",
   "execution_count": 5,
   "id": "dependent-singing",
   "metadata": {},
   "outputs": [
    {
     "name": "stdout",
     "output_type": "stream",
     "text": [
      "Without USING BUILT-IN FUNCTION:\n",
      "KEYS:\n",
      "101 102 103  \n",
      "Values:\n",
      "satya preeti eswar  \n",
      "Items:\n",
      "101 satya 102 preeti 103 eswar  \n",
      "USING BUILT-IN FUNCTION:\n",
      "KEYS:\n",
      "101 102 103  \n",
      "Values:\n",
      "satya preeti eswar  \n",
      "Items:\n",
      "101 satya 102 preeti 103 eswar  \n"
     ]
    }
   ],
   "source": [
    "#4.To iterate over dictionaries using for loops\n",
    "d1={101:'satya',\n",
    "    102:'preeti',\n",
    "    103:'eswar'}\n",
    "print(\"Without USING BUILT-IN FUNCTION:\")\n",
    "print(\"KEYS:\")\n",
    "for i in d1:\n",
    "    print(i,end=\" \")\n",
    "print(\" \")\n",
    "print(\"Values:\")\n",
    "for i in d1:\n",
    "    print(d1[i],end=\" \")\n",
    "print(\" \")\n",
    "print(\"Items:\")\n",
    "for i in d1:\n",
    "    print(i,d1[i],end=\" \")\n",
    "print(\" \")\n",
    "print(\"USING BUILT-IN FUNCTION:\")\n",
    "print(\"KEYS:\")\n",
    "for i in d1.keys():\n",
    "    print(i,end=\" \")\n",
    "print(\" \")\n",
    "print(\"Values:\")\n",
    "for i in d1.values():\n",
    "    print(i,end=\" \")\n",
    "print(\" \")\n",
    "print(\"Items:\")\n",
    "for i,j in d1.items():\n",
    "    print(i,j,end=\" \")\n",
    "print(\" \")"
   ]
  },
  {
   "cell_type": "code",
   "execution_count": 2,
   "id": "national-choir",
   "metadata": {},
   "outputs": [
    {
     "name": "stdout",
     "output_type": "stream",
     "text": [
      "MERGING DICTIONARIES:\n",
      "Using update method:\n",
      "{101: 'satya', 102: 'preeti', 103: 'eswar', 104: 'surya', 105: 'sunita', 106: 'suresh'}\n",
      "Using ** expression:\n",
      "{101: 'satya', 102: 'preeti', 103: 'eswar', 104: 'surya', 105: 'sunita', 106: 'suresh'}\n"
     ]
    }
   ],
   "source": [
    "#5.To merge two Python dictionaries\n",
    "print(\"MERGING DICTIONARIES:\")\n",
    "d1={101:'satya',\n",
    "    102:'preeti',\n",
    "    103:'eswar'}\n",
    "d2={104:'surya',\n",
    "    105:'sunita',\n",
    "    106:'suresh'\n",
    "}\n",
    "print(\"Using update method:\")\n",
    "d1.update(d2)\n",
    "print(d1)\n",
    "print(\"Using ** expression:\")\n",
    "res={**d1,**d2}\n",
    "print(res)"
   ]
  }
 ],
 "metadata": {
  "kernelspec": {
   "display_name": "Python 3",
   "language": "python",
   "name": "python3"
  },
  "language_info": {
   "codemirror_mode": {
    "name": "ipython",
    "version": 3
   },
   "file_extension": ".py",
   "mimetype": "text/x-python",
   "name": "python",
   "nbconvert_exporter": "python",
   "pygments_lexer": "ipython3",
   "version": "3.6.13"
  }
 },
 "nbformat": 4,
 "nbformat_minor": 5
}
